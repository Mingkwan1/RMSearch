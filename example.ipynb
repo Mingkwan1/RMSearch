{
 "cells": [
  {
   "cell_type": "code",
   "execution_count": 17,
   "id": "ea06391d-62a1-488a-bd35-5a5549401c7c",
   "metadata": {},
   "outputs": [
    {
     "ename": "ModuleNotFoundError",
     "evalue": "No module named 'trl'",
     "output_type": "error",
     "traceback": [
      "\u001b[0;31m---------------------------------------------------------------------------\u001b[0m",
      "\u001b[0;31mModuleNotFoundError\u001b[0m                       Traceback (most recent call last)",
      "Cell \u001b[0;32mIn[17], line 1\u001b[0m\n\u001b[0;32m----> 1\u001b[0m \u001b[38;5;28;01mfrom\u001b[39;00m \u001b[38;5;21;01mrmsearch\u001b[39;00m \u001b[38;5;28;01mimport\u001b[39;00m RMTrainer\n\u001b[1;32m      2\u001b[0m \u001b[38;5;28;01mimport\u001b[39;00m \u001b[38;5;21;01mrmsearch\u001b[39;00m\n",
      "File \u001b[0;32m~/Downloads/workspace5/RMSearch1-1/rmsearch/__init__.py:1\u001b[0m\n\u001b[0;32m----> 1\u001b[0m \u001b[38;5;28;01mfrom\u001b[39;00m \u001b[38;5;21;01m.\u001b[39;00m\u001b[38;5;21;01mrmsearch\u001b[39;00m \u001b[38;5;28;01mimport\u001b[39;00m rmsearch\n\u001b[1;32m      2\u001b[0m \u001b[38;5;28;01mfrom\u001b[39;00m \u001b[38;5;21;01m.\u001b[39;00m\u001b[38;5;21;01mrmtrain\u001b[39;00m \u001b[38;5;28;01mimport\u001b[39;00m RMTrainer\n\u001b[1;32m      4\u001b[0m __all__ \u001b[38;5;241m=\u001b[39m [\u001b[38;5;124m'\u001b[39m\u001b[38;5;124mrmsearch\u001b[39m\u001b[38;5;124m'\u001b[39m, \u001b[38;5;124m'\u001b[39m\u001b[38;5;124mRMTrainer\u001b[39m\u001b[38;5;124m'\u001b[39m]\n",
      "File \u001b[0;32m~/Downloads/workspace5/RMSearch1-1/rmsearch/rmtrain.py:1\u001b[0m\n\u001b[0;32m----> 1\u001b[0m from trl import RewardTrainer, RewardConfig\n\u001b[1;32m      2\u001b[0m from peft import LoraConfig, TaskType\n\u001b[1;32m      3\u001b[0m import accelerate\n",
      "\u001b[0;31mModuleNotFoundError\u001b[0m: No module named 'trl'"
     ]
    }
   ],
   "source": [
    "from rmsearch import RMTrainer\n",
    "import rmsearch"
   ]
  },
  {
   "cell_type": "code",
   "execution_count": null,
   "id": "a1837433-c24b-4147-968e-ab6229f60d10",
   "metadata": {},
   "outputs": [],
   "source": []
  }
 ],
 "metadata": {
  "kernelspec": {
   "display_name": "Python [conda env:base] *",
   "language": "python",
   "name": "conda-base-py"
  },
  "language_info": {
   "codemirror_mode": {
    "name": "ipython",
    "version": 3
   },
   "file_extension": ".py",
   "mimetype": "text/x-python",
   "name": "python",
   "nbconvert_exporter": "python",
   "pygments_lexer": "ipython3",
   "version": "3.12.4"
  }
 },
 "nbformat": 4,
 "nbformat_minor": 5
}
